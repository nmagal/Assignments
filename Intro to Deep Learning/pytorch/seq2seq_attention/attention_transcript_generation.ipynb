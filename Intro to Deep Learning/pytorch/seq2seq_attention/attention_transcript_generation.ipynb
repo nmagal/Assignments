{
  "nbformat": 4,
  "nbformat_minor": 0,
  "metadata": {
    "colab": {
      "name": "HW4P2.ipynb",
      "provenance": [],
      "collapsed_sections": []
    },
    "kernelspec": {
      "display_name": "Python 3",
      "name": "python3"
    },
    "language_info": {
      "name": "python"
    },
    "accelerator": "GPU"
  },
  "cells": [
    {
      "cell_type": "markdown",
      "metadata": {
        "id": "-vzs5VChQt0M"
      },
      "source": [
        "#Setup"
      ]
    },
    {
      "cell_type": "code",
      "metadata": {
        "id": "VTx_3P8rQoS4"
      },
      "source": [
        "import sys\n",
        "import numpy as np\n",
        "import torch\n",
        "import torch.nn as nn\n",
        "import torch.nn.functional as F\n",
        "import torch.nn.utils.rnn as rnn_utils\n",
        "import torch.optim as optim\n",
        "import torch.nn.utils as utils\n",
        "import seaborn as sns\n",
        "import matplotlib.pyplot as plt\n",
        "import time\n",
        "import random\n",
        "from torch.utils import data\n",
        "from psutil import virtual_memory\n",
        "from google.colab import drive\n",
        "from psutil import virtual_memory\n",
        "import json\n",
        "from typing import List, Tuple\n",
        "import pdb\n",
        "from tqdm import tqdm\n",
        "\n",
        "#!pip install wandb --upgrade\n",
        "#import wandb"
      ],
      "execution_count": null,
      "outputs": []
    },
    {
      "cell_type": "code",
      "metadata": {
        "id": "ElH2LdinRL1R"
      },
      "source": [
        "class SetUpColab():\n",
        "\n",
        "  def __init__(self):\n",
        "    pass\n",
        "  \n",
        "  #Determines how much ram the runtime has\n",
        "  @staticmethod\n",
        "  def runtime_info():\n",
        "    ram_gb = virtual_memory().total / 1e9\n",
        "    print('Your runtime has {:.1f} gigabytes of available RAM\\n'.format(ram_gb))\n",
        "    if ram_gb < 20:\n",
        "      print('Not using a high-RAM runtime')\n",
        "    else:\n",
        "      print('You are using a high-RAM runtime!')\n",
        "    !nvidia-smi\n",
        "    \n",
        "  @staticmethod\n",
        "  def mount_google_drive():\n",
        "    drive.mount('/content/gdrive')\n",
        "  \n",
        "  #Sets up environement for use with kaggle api\n",
        "  @staticmethod\n",
        "  def set_up_kaggle():\n",
        "    !pip uninstall -y kaggle\n",
        "    !pip install --upgrade pip\n",
        "    #!pip install kaggle==1.5.6\n",
        "    !pip install kaggle\n",
        "    !mkdir .kaggle\n",
        "\n",
        "    token = {\"username\":\"nicholasmagal\",\"key\":\"9bf671834d75b58fac2b037da15f4cf0\"}\n",
        "    with open('/content/.kaggle/kaggle.json', 'w') as file:\n",
        "      json.dump(token, file)\n",
        "    \n",
        "    for i in range(2):\n",
        "      !chmod 600 /content/.kaggle/kaggle.json\n",
        "      !cp /content/.kaggle/kaggle.json /root/.kaggle/\n",
        "      !kaggle config set -n path -v /content\n",
        "\n",
        "  @staticmethod\n",
        "  def setup_wandb():\n",
        "    wandb.login()\n",
        "\n",
        "  \n",
        "  #Calls above methods to do a complete Collab setup, ready to run ml models :D Note may want to change this per competition\n",
        "  @staticmethod\n",
        "  def complete_set_up():\n",
        "    SetUpColab.runtime_info()\n",
        "    SetUpColab.mount_google_drive()\n",
        "    SetUpColab.set_up_kaggle()\n",
        "    #SetUpColab.setup_wandb()"
      ],
      "execution_count": null,
      "outputs": []
    },
    {
      "cell_type": "code",
      "metadata": {
        "id": "_5iuAy_GSjKU"
      },
      "source": [
        "SetUpColab.complete_set_up()\n",
        "!kaggle competitions download -c 11785-fall2021-hw4p2\n",
        "!unzip /content/competitions/11785-fall2021-hw4p2/11785-fall2021-hw4p2.zip"
      ],
      "execution_count": null,
      "outputs": []
    },
    {
      "cell_type": "markdown",
      "metadata": {
        "id": "vL5zGRWEKbCK"
      },
      "source": [
        "#Helper Functions"
      ]
    },
    {
      "cell_type": "markdown",
      "metadata": {
        "id": "ZsAsleOPJuUo"
      },
      "source": [
        "These are used to map from char -> index and vice versa"
      ]
    },
    {
      "cell_type": "code",
      "metadata": {
        "id": "mlOSGjPiKp3p"
      },
      "source": [
        "def create_dictionaries(letter_list: List[str]):\n",
        "    '''\n",
        "    Create dictionaries for letter2index and index2letter transformations\n",
        "    '''\n",
        "    int_index = np.arange(len(letter_list))\n",
        "    letter2index = dict(zip(letter_list, int_index))\n",
        "    index2letter = dict(zip(int_index, letter_list))\n",
        "    return(letter2index, index2letter)\n",
        "\n",
        "def transform_letter_to_index(raw_transcripts: List[str]) -> List[int]:\n",
        "    '''\n",
        "    Transforms text input to numerical input by converting each letter \n",
        "    to its corresponding index from letter_list\n",
        "\n",
        "    Args:\n",
        "        raw_transcripts: Raw text transcripts with the shape of (N, )\n",
        "    \n",
        "    Return:\n",
        "        transcripts: Converted index-format transcripts. This would be a list with a length of N\n",
        "    '''  \n",
        "    letter_to_index_translation = [letter2index[char] for char in raw_transcripts]\n",
        "    return(letter_to_index_translation)\n",
        "    "
      ],
      "execution_count": null,
      "outputs": []
    },
    {
      "cell_type": "code",
      "metadata": {
        "id": "l-J8AaypRENm"
      },
      "source": [
        "LETTER_LIST = ['<sos>', 'a', 'b', 'c', 'd', 'e', 'f', 'g', 'h', 'i', 'j', 'k', 'l', 'm', 'n', 'o', 'p', 'q', \n",
        "               'r', 's', 't', 'u', 'v', 'w', 'x', 'y', 'z', '-', \"'\", '.', '_', '+', ' ', '<eos>']\n",
        "letter_list_size = len(LETTER_LIST)"
      ],
      "execution_count": null,
      "outputs": []
    },
    {
      "cell_type": "markdown",
      "metadata": {
        "id": "ZECfRA5OJ6bB"
      },
      "source": [
        "Custom Dataset and Dataloader code"
      ]
    },
    {
      "cell_type": "code",
      "metadata": {
        "id": "t91M907cLH-F"
      },
      "source": [
        "def create_data_loader(dataset, shuffle, batch_size = 128, num_workers = 1, pin_memory = True, collate_fn = None):\n",
        "  data_loader = torch.utils.data.DataLoader(dataset=dataset,\n",
        "                                                  batch_size = batch_size,\n",
        "                                                  shuffle = shuffle,\n",
        "                                                  num_workers = num_workers,\n",
        "                                                  pin_memory = pin_memory,\n",
        "                                                  collate_fn = collate_fn)\n",
        "  return data_loader"
      ],
      "execution_count": null,
      "outputs": []
    },
    {
      "cell_type": "code",
      "metadata": {
        "id": "tuWj9LcOJ4G7"
      },
      "source": [
        "class UtteranceDataset(data.Dataset):\n",
        "    def __init__(self, X, Y):\n",
        "        self.X = X['data']\n",
        "        #Converting our transcripts into numeraic form\n",
        "        self.Y = np.array([np.array(transform_letter_to_index(transcript_string)) for transcript_string in Y['data']])\n",
        "\n",
        "    def __len__(self):\n",
        "        return self.X.shape[0]\n",
        "\n",
        "    def __getitem__(self, index):\n",
        "\n",
        "      return torch.FloatTensor(self.X[index]), torch.LongTensor(self.Y[index])\n",
        "\n",
        "    def collate_train_val(batch):\n",
        "      \"\"\"\n",
        "      Return:\n",
        "      pad_x: the padded x (training/validation speech data) \n",
        "      pad_y: the padded y (text labels - transcripts)\n",
        "      x_len: the length of x\n",
        "      y_len: the length of y\n",
        "      \"\"\"\n",
        "      features, labels = zip(*batch)\n",
        "\n",
        "      features_length = [len(x) for x in features]\n",
        "      labels_length =[len(y) for y in labels]\n",
        "\n",
        "      features = torch.nn.utils.rnn.pad_sequence(features, batch_first = True)\n",
        "      labels = torch.nn.utils.rnn.pad_sequence(labels, batch_first = True)\n",
        "\n",
        "      #Features returned as B X L X Frequency Bins. There is a one to one correspondance between labels L and features L \n",
        "      #Labels returned as B X L\n",
        "      return(features, features_length, labels, labels_length)"
      ],
      "execution_count": null,
      "outputs": []
    },
    {
      "cell_type": "markdown",
      "metadata": {
        "id": "ZbBl7_vyKKFU"
      },
      "source": [
        "Model Sections: Starting with the Encoder"
      ]
    },
    {
      "cell_type": "code",
      "metadata": {
        "id": "Hg0mGYTPKSOO"
      },
      "source": [
        "class Encoder(nn.Module):\n",
        "    '''\n",
        "    Encoder takes the utterances as inputs and returns the key, value and unpacked_x_len.\n",
        "\n",
        "    '''\n",
        "    def __init__(self, input_dim, encoder_hidden_dim):\n",
        "        super(Encoder, self).__init__()\n",
        "        # The first LSTM layer at the bottom\n",
        "        self.lstm = nn.LSTM(input_size = input_dim, hidden_size = encoder_hidden_dim, batch_first = True)\n",
        "\n",
        "\n",
        "    def forward(self, x, x_len):\n",
        "        \"\"\"\n",
        "        1. Pack your input and pass it through the first LSTM layer (no truncation)\n",
        "        2. Pass it through the pyramidal LSTM layer\n",
        "        3. Pad your input back to (B, T, *) or (T, B, *) shape\n",
        "        4. Output Key, Value, and truncated input lens\n",
        "\n",
        "        Key and value could be\n",
        "            (i) Concatenated hidden vectors from all time steps (key == value).\n",
        "            (ii) Linear projections of the output from the last pBLSTM network.\n",
        "                If you choose this way, you can use the final output of\n",
        "                your pBLSTM network.\n",
        "        \"\"\"\n",
        "        #x is B X L X H_in\n",
        "        x = torch.nn.utils.rnn.pack_padded_sequence(x, x_len, batch_first=True, enforce_sorted = False)\n",
        "        x, state = self.lstm(x)\n",
        "        x, seq_lens = torch.nn.utils.rnn.pad_packed_sequence(x, batch_first=True)\n",
        "\n",
        "        return(x, seq_lens)"
      ],
      "execution_count": null,
      "outputs": []
    },
    {
      "cell_type": "markdown",
      "metadata": {
        "id": "mfftKVZ_fxFI"
      },
      "source": [
        "Attention plot and forward function"
      ]
    },
    {
      "cell_type": "code",
      "metadata": {
        "id": "wfwWeBEzcRQz"
      },
      "source": [
        "def plot_attention(attention):\n",
        "    # utility function for debugging\n",
        "    plt.clf()\n",
        "    sns.heatmap(attention, cmap='GnBu')\n",
        "    plt.show()\n",
        "\n",
        "class Attention(nn.Module):\n",
        "    '''\n",
        "    Attention is calculated using key and value from encoder and query from decoder.\n",
        "    Here are different ways to compute attention and context:\n",
        "    1. Dot-product attention\n",
        "        energy = bmm(key, query)  (B, T, d_k)\n",
        "        # Optional: Scaled dot-product by normalizing with sqrt key dimension\n",
        "        # Check \"attention is all you need\" Section 3.2.1\n",
        "    * 1st way is what most TAs are comfortable with, but if you want to explore...\n",
        "    2. Cosine attention\n",
        "        energy = cosine(query, key) # almost the same as dot-product xD \n",
        "    3. Bi-linear attention\n",
        "        W = Linear transformation (learnable parameter): d_k -> d_q\n",
        "        energy = bmm(key @ W, query)\n",
        "    4. Multi-layer perceptron\n",
        "        # Check \"Neural Machine Translation and Sequence-to-sequence Models: A Tutorial\" Section 8.4\n",
        "    \n",
        "    After obtaining unnormalized attention weights (energy), compute and return attention and context, i.e.,\n",
        "    energy = mask(energy) # mask out padded elements with big negative number (e.g. -1e9)\n",
        "    attention = softmax(energy)\n",
        "    context = bmm(attention, value)\n",
        "\n",
        "    5. Multi-Head Attention\n",
        "        # Check \"attention is all you need\" Section 3.2.2\n",
        "        h = Number of heads\n",
        "        W_Q, W_K, W_V: Weight matrix for Q, K, V (h of them in total)\n",
        "        W_O: d_v -> d_v\n",
        "\n",
        "        Reshape K: (B, T, d_k)\n",
        "        to (B, T, h, d_k // h) and transpose to (B, h, T, d_k // h)\n",
        "        Reshape V: (B, T, d_v)\n",
        "        to (B, T, h, d_v // h) and transpose to (B, h, T, d_v // h)\n",
        "        Reshape Q: (B, d_q)\n",
        "        to (B, h, d_q // h)\n",
        "\n",
        "        energy = Q @ K^T\n",
        "        energy = mask(energy)\n",
        "        attention = softmax(energy)\n",
        "        multi_head = attention @ V\n",
        "        multi_head = multi_head reshaped to (B, d_v)\n",
        "        context = multi_head @ W_O\n",
        "    '''\n",
        "    def __init__(self):\n",
        "        super(Attention, self).__init__()\n",
        "        # Optional: dropout\n",
        "\n",
        "    def forward(self, query, key, value, mask):\n",
        "        \"\"\"\n",
        "        input:\n",
        "            key: (batch_size, seq_len, d_k)\n",
        "            value: (batch_size, seq_len, d_v)\n",
        "            query: (batch_size, d_q)\n",
        "        * Hint: d_k == d_v == d_q is often true if you use linear projections\n",
        "        return:\n",
        "            context: (batch_size, key_val_dim)\n",
        "        \n",
        "        \"\"\"\n",
        "        batch_size, len_of_sequence, hidden_dim = value.shape\n",
        "        query = torch.unsqueeze(query, dim =2)\n",
        "        energy = torch.squeeze(torch.bmm(value, query))\n",
        "        energy_masked = energy * mask.to(device)\n",
        "        m = nn.Softmax(dim =1)\n",
        "        attention = m(energy_masked)\n",
        "\n",
        "\n",
        "        value = torch.permute(value, (0,2,1))\n",
        "        attention_permuted = torch.unsqueeze(attention, dim=2)\n",
        "        context = torch.bmm(value.float(),attention_permuted.float())\n",
        "\n",
        "        context = context\n",
        "        \n",
        "\n",
        "        return torch.squeeze(context), attention\n",
        "        # we return attention weights for plotting (for debugging)"
      ],
      "execution_count": null,
      "outputs": []
    },
    {
      "cell_type": "markdown",
      "metadata": {
        "id": "-7I5HeG_V3tJ"
      },
      "source": [
        "Decoder"
      ]
    },
    {
      "cell_type": "code",
      "metadata": {
        "id": "uwKFCbl3V8Hd"
      },
      "source": [
        "class Decoder(nn.Module):\n",
        "  '''\n",
        "  As mentioned in a previous recitation, each forward call of decoder deals with just one time step.\n",
        "  Thus we use LSTMCell instead of LSTM here.\n",
        "  The output from the last LSTMCell can be used as a query for calculating attention.\n",
        "  Methods like Gumble noise and teacher forcing can also be incorporated for improving the performance.\n",
        "  '''\n",
        "  def __init__(self, vocab_size, context_size, decoder_hidden_dim, embed_dim):\n",
        "      super(Decoder, self).__init__()\n",
        "      # Hint: Be careful with the padding_idx\n",
        "      self.embedding = nn.Embedding(num_embeddings = vocab_size, embedding_dim = embed_dim )\n",
        "      # The number of cells is defined based on the paper\n",
        "      self.lstm1 = nn.LSTMCell(input_size = embed_dim + context_size, hidden_size = decoder_hidden_dim)\n",
        "\n",
        "      self.attention = Attention()     \n",
        "      self.vocab_size = vocab_size\n",
        "      # Optional: Weight-tying\n",
        "      self.character_prob = nn.Linear(decoder_hidden_dim + context_size, vocab_size) #: d_v -> vocab_size\n",
        "      self.context_size = context_size\n",
        "        \n",
        "        # Weight tying\n",
        "        #self.character_prob.weight = self.embedding.weight\n",
        "\n",
        "  def forward(self, value, encoder_len, y=None, key=None, mode='train'):\n",
        "\n",
        "    B, key_seq_max_len, key_value_size = value.shape\n",
        "\n",
        "    if mode == 'train':\n",
        "      max_len =  y.shape[1]\n",
        "      # B X max_length --> B X max_length X embedding dim\n",
        "      label_char_embeddings = self.embedding(y)\n",
        "    else:\n",
        "      max_len = 600\n",
        "\n",
        "    #Since we have variable length in our encoder, must mask attention weights\n",
        "    mask = np.ones((B, key_seq_max_len))\n",
        "\n",
        "    for batch_index in range(B):\n",
        "      mask[batch_index, encoder_len[batch_index].item():] = -1e9\n",
        "    mask = torch.from_numpy(mask)\n",
        "    mask.requires_grad = False \n",
        "\n",
        "    predictions = []\n",
        "    attention_plot = []\n",
        "\n",
        "    #Init vars. Prediction will be 0 since <sos> corresponds to 0\n",
        "    prediction =  torch.full((B,), fill_value = 0).to(device)\n",
        "    hidden_state = None\n",
        "    context = torch.zeros(B,self.context_size).to(device)\n",
        "\n",
        "    #We must loop through time\n",
        "    for time_step in range(max_len):\n",
        "\n",
        "      #Train mode gives us the possiblity of teacher forcing\n",
        "      if mode == 'train':\n",
        "        teacher_forcing_draw = np.random.binomial(1,.95, 1)\n",
        "\n",
        "        #if teacher_forcing is activated\n",
        "        #if True:\n",
        "        if teacher_forcing_draw == 1:\n",
        "\n",
        "          #special case for first timestep, must input <sos>\n",
        "          if time_step == 0:\n",
        "            char_embeded = self.embedding(prediction)\n",
        "\n",
        "          #Otherwise do generic teacher forcing\n",
        "          else:\n",
        "            #label_char_embedding B x S X Hidden dim\n",
        "            char_embeded = label_char_embeddings[:, time_step - 1, :]\n",
        "        #if we are not using teacher forcing\n",
        "        else:\n",
        "          if time_step == 0:\n",
        "            char_embeded = self.embedding(prediction)\n",
        "          else:\n",
        "            char_embeded = self.embedding(torch.argmax(prediction, dim = 1).long())\n",
        "\n",
        "      else: \n",
        "        char_embeded = self.embedding(torch.argmax(prediction, dim = 1).long())\n",
        "\n",
        "      #Input into lstm is both context(from attention) and also embedding\n",
        "      context_and_embedding = torch.cat((char_embeded, context), dim = 1)\n",
        "      hidden_states = self.lstm1(context_and_embedding.float())\n",
        "      query = hidden_states[0]\n",
        "      context, attention = self.attention(query, value, value, mask)\n",
        "\n",
        "      #pdb.set_trace()\n",
        "      # We store the first attention of this batch for debugging we cut off the\n",
        "      attention_plot.append(attention[0][:encoder_len[0]].detach().cpu())\n",
        "\n",
        "      if len(context.shape)==1:\n",
        "        context = torch.unsqueeze(context, 0)\n",
        "\n",
        "      output_context = torch.cat((query, context), dim= 1)\n",
        "\n",
        "      prediction = self.character_prob(output_context.float())\n",
        "      predictions.append(prediction)\n",
        "\n",
        "    attentions = torch.stack(attention_plot, dim=0)\n",
        "    attentions = attentions[:encoder_len[0], :]\n",
        "    predictions = torch.stack(predictions, dim=1)\n",
        "    return predictions, attentions"
      ],
      "execution_count": null,
      "outputs": []
    },
    {
      "cell_type": "code",
      "metadata": {
        "id": "KakNOtGir9lv"
      },
      "source": [
        "class Seq2Seq(nn.Module):\n",
        "    '''\n",
        "    We train an end-to-end sequence to sequence model comprising of Encoder and Decoder.\n",
        "    This is simply a wrapper \"model\" for your encoder and decoder.\n",
        "    '''\n",
        "    def __init__(self,input_dim, encoder_hidden_dim, vocab_size, context_size, decoder_hidden_dim, embed_dim):\n",
        "        super(Seq2Seq,self).__init__()\n",
        "        self.encoder = Encoder(input_dim = input_dim, encoder_hidden_dim = encoder_hidden_dim)\n",
        "        self.decoder = Decoder(vocab_size = letter_list_size, context_size = encoder_hidden_dim, decoder_hidden_dim = encoder_hidden_dim, embed_dim =embed_dim)\n",
        "\n",
        "    def forward(self, x, x_len, y=None, mode='train'):\n",
        "        value, encoder_len = self.encoder(x, x_len)\n",
        "        predictions, attentions = self.decoder(value, encoder_len, y=y, mode=mode)\n",
        "        return predictions, attentions"
      ],
      "execution_count": null,
      "outputs": []
    },
    {
      "cell_type": "code",
      "metadata": {
        "id": "vtHDv_wd4en_"
      },
      "source": [
        "def train(model, train_loader, criterion, optimizer):\n",
        "  model.train()\n",
        "  running_loss = 0\n",
        "\n",
        "  for features, features_length, labels, labels_length in tqdm(train_dataloader):\n",
        "    optimizer.zero_grad()\n",
        "    features, labels = features.to(device), labels.to(device)\n",
        "\n",
        "    #Output is shape B X S X C\n",
        "    output, attentions = seq_to_seq_model(features, features_length, labels)\n",
        "\n",
        "    output = torch.permute(output,(0,2,1))\n",
        "    loss = criterion(output, labels)\n",
        "\n",
        "    mask = np.ones((len(labels_length), max(labels_length)))\n",
        "    for batch_index in range(len(labels_length)):\n",
        "      mask[batch_index, labels_length[batch_index]:] = 0\n",
        "    mask = torch.from_numpy(mask).to(device)\n",
        "    mask.requires_grad = False\n",
        "\n",
        "    loss = loss * mask\n",
        "    loss = torch.sum(loss)\n",
        "    loss = loss/np.sum(labels_length) \n",
        "\n",
        "    loss.backward()\n",
        "\n",
        "    optimizer.step()\n",
        "    running_loss += loss.item()\n",
        "\n",
        "  plot_attention(attentions)\n",
        "\n",
        "  average_loss = running_loss/len(train_loader.dataset)\n",
        "  print(f\"Epoch:{epoch}, Training Loss:{average_loss}\")"
      ],
      "execution_count": null,
      "outputs": []
    },
    {
      "cell_type": "code",
      "metadata": {
        "id": "REmH2Plbo7kR"
      },
      "source": [
        "def validate(model, validate_loader,criterion):\n",
        "  model.eval()\n",
        "  running_loss = 0\n",
        "  attention_list = []\n",
        "  i = 0\n",
        "  for features, features_length, labels, labels_length in (tqdm(validate_loader)):\n",
        "    features, labels = features.to(device), labels.to(device)\n",
        "      \n",
        "    if i ==10:\n",
        "      break\n",
        "    i+=1\n",
        "    #Output is shape B X S X C\n",
        "    output, attentions = seq_to_seq_model(features, features_length, labels)\n",
        "\n",
        "    output = torch.permute(output,(0,2,1))\n",
        "    loss = criterion(output, labels)\n",
        "\n",
        "    mask = np.ones((len(labels_length), max(labels_length)))\n",
        "    for batch_index in range(len(labels_length)):\n",
        "      mask[batch_index, labels_length[batch_index]:] = 0\n",
        "    mask = torch.from_numpy(mask).to(device)\n",
        "    mask.requires_grad = False\n",
        "\n",
        "    loss = loss * mask\n",
        "    loss = torch.sum(loss)\n",
        "    loss = loss/np.sum(labels_length) \n",
        "    running_loss += loss.item()\n",
        "\n",
        "    attention_list.append(attentions.detach().cpu().numpy().T) \n",
        "    plot_attention(attentions)\n",
        "    #pdb.set_trace()\n",
        "\n",
        "  average_loss = running_loss/len(validate_loader.dataset)\n",
        "  print(f\"Epoch:{epoch}, Validation Loss:{average_loss}\")\n",
        "  return(attention_list)\n"
      ],
      "execution_count": null,
      "outputs": []
    },
    {
      "cell_type": "markdown",
      "metadata": {
        "id": "zM8cb0qMJ9nQ"
      },
      "source": [
        "#Demo"
      ]
    },
    {
      "cell_type": "code",
      "metadata": {
        "colab": {
          "base_uri": "https://localhost:8080/"
        },
        "id": "OvkVlLcax43g",
        "outputId": "8049fb39-a0e4-46c7-afb1-382738ea901f"
      },
      "source": [
        "config = {'input_dim' : 40,\n",
        "          'encoder_hidden_dim/context_size': 516,\n",
        "          'vocab_size' : letter_list_size,\n",
        "          'decoder_hidden_dim' : 516,\n",
        "          'embed_dim'  : 400,\n",
        "          'epochs' : 50,\n",
        "          'lr' : 2e-3,\n",
        "          'weight_decay' : 5e-6,\n",
        "          'batch_size' : 256\n",
        "          }\n",
        "          \n",
        "seq_to_seq_model = Seq2Seq(input_dim = config['input_dim'], \n",
        "                  encoder_hidden_dim = config['encoder_hidden_dim/context_size'],\n",
        "                  vocab_size = config['vocab_size'],\n",
        "                  context_size = config['encoder_hidden_dim/context_size'],\n",
        "                  decoder_hidden_dim =config['decoder_hidden_dim'],\n",
        "                  embed_dim = config['embed_dim']\n",
        "                  )\n",
        "\n",
        "device = torch.device(\"cuda:0\" if torch.cuda.is_available() else \"cpu\")\n",
        "seq_to_seq_model.to(device)\n",
        "optimizer = torch.optim.Adam(seq_to_seq_model.parameters(),lr =config['lr'] , weight_decay=config['weight_decay'])\n",
        "criterion = nn.CrossEntropyLoss(reduction='none')\n",
        "letter2index, index2letter = create_dictionaries(LETTER_LIST)\n",
        "\n",
        "train_features = np.load('/content/hw4p2_toy_dataset/hw4p2_toy_dataset/train.npz', allow_pickle=True, encoding = 'bytes')\n",
        "train_transcripts = np.load('/content/hw4p2_toy_dataset/hw4p2_toy_dataset/train_transcripts.npz', allow_pickle=True, encoding = 'bytes')\n",
        "\n",
        "val_features = np.load('/content/hw4p2_toy_dataset/hw4p2_toy_dataset/dev.npz', allow_pickle=True, encoding = 'bytes')\n",
        "val_transcripts = np.load('/content/hw4p2_toy_dataset/hw4p2_toy_dataset/dev_transcripts.npz', allow_pickle=True, encoding = 'bytes')\n",
        "\n",
        "dataset = UtteranceDataset(train_features,train_transcripts)\n",
        "val_dataset = UtteranceDataset(val_features, val_transcripts)\n",
        "\n",
        "train_dataloader = create_data_loader(dataset, collate_fn=UtteranceDataset.collate_train_val, shuffle = True, batch_size = config['batch_size']\n",
        "                                      , num_workers=1, pin_memory=True)\n",
        "validate_dataloader = create_data_loader(val_dataset, collate_fn=UtteranceDataset.collate_train_val, shuffle = False, batch_size = 1\n",
        "                                      , num_workers=1, pin_memory=True)"
      ],
      "execution_count": null,
      "outputs": [
        {
          "output_type": "stream",
          "name": "stderr",
          "text": [
            "/usr/local/lib/python3.7/dist-packages/ipykernel_launcher.py:5: VisibleDeprecationWarning: Creating an ndarray from ragged nested sequences (which is a list-or-tuple of lists-or-tuples-or ndarrays with different lengths or shapes) is deprecated. If you meant to do this, you must specify 'dtype=object' when creating the ndarray\n",
            "  \"\"\"\n"
          ]
        }
      ]
    },
    {
      "cell_type": "code",
      "metadata": {
        "id": "cpmBB4Z63dDR"
      },
      "source": [
        "for epoch in range(config['epochs']):\n",
        "  train(seq_to_seq_model, train_dataloader, criterion, optimizer)"
      ],
      "execution_count": null,
      "outputs": []
    },
    {
      "cell_type": "markdown",
      "metadata": {
        "id": "nzEmVyZC4N92"
      },
      "source": [
        "#Grabbing attentions"
      ]
    },
    {
      "cell_type": "code",
      "metadata": {
        "colab": {
          "base_uri": "https://localhost:8080/",
          "height": 1000
        },
        "id": "J87v02hM8X5d",
        "outputId": "da0f81b9-3681-47c2-869b-9d888d339d8f"
      },
      "source": [
        "validation_attentions = validate(seq_to_seq_model,validate_dataloader,criterion )\n",
        "validation_attentions = np.asarray(validation_attentions, dtype=object)"
      ],
      "execution_count": null,
      "outputs": [
        {
          "output_type": "stream",
          "name": "stderr",
          "text": [
            "\r  0%|          | 0/100 [00:00<?, ?it/s]"
          ]
        },
        {
          "output_type": "display_data",
          "data": {
            "image/png": "[encoded data removed]",
            "text/plain": [
              "<Figure size 432x288 with 2 Axes>"
            ]
          },
          "metadata": {
            "needs_background": "light"
          }
        },
        {
          "output_type": "stream",
          "name": "stderr",
          "text": [
            "\r  1%|          | 1/100 [00:00<00:37,  2.61it/s]"
          ]
        },
        {
          "output_type": "display_data",
          "data": {
            "image/png": "[encoded data removed]",
            "text/plain": [
              "<Figure size 432x288 with 2 Axes>"
            ]
          },
          "metadata": {
            "needs_background": "light"
          }
        },
        {
          "output_type": "stream",
          "name": "stderr",
          "text": [
            "\r  2%|▏         | 2/100 [00:00<00:31,  3.10it/s]"
          ]
        },
        {
          "output_type": "display_data",
          "data": {
            "image/png": "[encoded data removed]",
            "text/plain": [
              "<Figure size 432x288 with 2 Axes>"
            ]
          },
          "metadata": {
            "needs_background": "light"
          }
        },
        {
          "output_type": "stream",
          "name": "stderr",
          "text": [
            "\r  3%|▎         | 3/100 [00:01<00:34,  2.80it/s]"
          ]
        },
        {
          "output_type": "display_data",
          "data": {
            "image/png": "[encoded data removed]",
            "text/plain": [
              "<Figure size 432x288 with 2 Axes>"
            ]
          },
          "metadata": {
            "needs_background": "light"
          }
        },
        {
          "output_type": "stream",
          "name": "stderr",
          "text": [
            "\r  4%|▍         | 4/100 [00:01<00:31,  3.09it/s]"
          ]
        },
        {
          "output_type": "display_data",
          "data": {
            "image/png": "[encoded data removed]",
            "text/plain": [
              "<Figure size 432x288 with 2 Axes>"
            ]
          },
          "metadata": {
            "needs_background": "light"
          }
        },
        {
          "output_type": "stream",
          "name": "stderr",
          "text": [
            "\r  5%|▌         | 5/100 [00:01<00:28,  3.31it/s]"
          ]
        },
        {
          "output_type": "display_data",
          "data": {
            "image/png": "[encoded data removed]",
            "text/plain": [
              "<Figure size 432x288 with 2 Axes>"
            ]
          },
          "metadata": {
            "needs_background": "light"
          }
        },
        {
          "output_type": "stream",
          "name": "stderr",
          "text": [
            "\r  6%|▌         | 6/100 [00:01<00:27,  3.45it/s]"
          ]
        },
        {
          "output_type": "display_data",
          "data": {
            "image/png": "[encoded data removed]",
            "text/plain": [
              "<Figure size 432x288 with 2 Axes>"
            ]
          },
          "metadata": {
            "needs_background": "light"
          }
        },
        {
          "output_type": "stream",
          "name": "stderr",
          "text": [
            "\r  7%|▋         | 7/100 [00:02<00:27,  3.40it/s]"
          ]
        },
        {
          "output_type": "display_data",
          "data": {
            "image/png": "[encoded data removed]",
            "text/plain": [
              "<Figure size 432x288 with 2 Axes>"
            ]
          },
          "metadata": {
            "needs_background": "light"
          }
        },
        {
          "output_type": "stream",
          "name": "stderr",
          "text": [
            "\r  8%|▊         | 8/100 [00:02<00:26,  3.42it/s]"
          ]
        },
        {
          "output_type": "display_data",
          "data": {
            "image/png": "[encoded data removed]",
            "text/plain": [
              "<Figure size 432x288 with 2 Axes>"
            ]
          },
          "metadata": {
            "needs_background": "light"
          }
        },
        {
          "output_type": "stream",
          "name": "stderr",
          "text": [
            "\r  9%|▉         | 9/100 [00:02<00:26,  3.45it/s]"
          ]
        },
        {
          "output_type": "display_data",
          "data": {
            "image/png": "[encoded data removed]",
            "text/plain": [
              "<Figure size 432x288 with 2 Axes>"
            ]
          },
          "metadata": {
            "needs_background": "light"
          }
        },
        {
          "output_type": "stream",
          "name": "stderr",
          "text": [
            " 10%|█         | 10/100 [00:03<00:27,  3.29it/s]"
          ]
        },
        {
          "output_type": "stream",
          "name": "stdout",
          "text": [
            "Epoch:49, Validation Loss:0.045435716137694794\n"
          ]
        },
        {
          "output_type": "stream",
          "name": "stderr",
          "text": [
            "\n"
          ]
        }
      ]
    },
    {
      "cell_type": "markdown",
      "source": [
        "#Saving Results"
      ],
      "metadata": {
        "id": "DeqezI4jcpwR"
      }
    },
    {
      "cell_type": "code",
      "metadata": {
        "id": "tgmlkM-8DYMZ"
      },
      "source": [
        "np.save('/content/gdrive/MyDrive/IDL/HW/HW4/P2/handin/attention', validation_attentions)"
      ],
      "execution_count": null,
      "outputs": []
    },
    {
      "cell_type": "code",
      "metadata": {
        "id": "4yNdyL8dDhmf"
      },
      "source": [
        "for attention in (validation_attentions):\n",
        "  for index, col in enumerate(range(attention.shape[1])):\n",
        "    print('Row sum at',index)\n",
        "    at = attention[index,: ]\n",
        "    sum = (np.sum(at))\n",
        "    print('torch sum',sum.item())"
      ],
      "execution_count": null,
      "outputs": []
    },
    {
      "cell_type": "code",
      "metadata": {
        "colab": {
          "base_uri": "https://localhost:8080/"
        },
        "id": "KTu64bJ0VqS1",
        "outputId": "18f2f7ab-adeb-4255-bcd1-d56ad26b33f1"
      },
      "source": [
        "attention[:, index]"
      ],
      "execution_count": null,
      "outputs": [
        {
          "output_type": "execute_result",
          "data": {
            "text/plain": [
              "29"
            ]
          },
          "metadata": {},
          "execution_count": 25
        }
      ]
    }
  ]
}